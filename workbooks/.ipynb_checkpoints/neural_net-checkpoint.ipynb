{
 "cells": [
  {
   "cell_type": "code",
   "execution_count": 8,
   "id": "d068ee7c",
   "metadata": {},
   "outputs": [],
   "source": [
    "import sqlite3\n",
    "\n",
    "import pandas as pd\n",
    "import numpy as np\n",
    "import seaborn as sns\n",
    "import matplotlib.pyplot as plt"
   ]
  },
  {
   "cell_type": "code",
   "execution_count": 9,
   "id": "1c900f48",
   "metadata": {},
   "outputs": [],
   "source": [
    "# arguments\n",
    "weather_station = 'KDAL'\n",
    "load_zone = 'COAST'"
   ]
  },
  {
   "cell_type": "code",
   "execution_count": 10,
   "id": "13b2fda8",
   "metadata": {},
   "outputs": [],
   "source": [
    "# connect to database\n",
    "conn = sqlite3.connect('../test_project.db')"
   ]
  },
  {
   "cell_type": "code",
   "execution_count": 11,
   "id": "57bb3edc",
   "metadata": {},
   "outputs": [],
   "source": [
    "# load 2014 load data\n",
    "load_query = 'SELECT OperDay_HourEnding_UTC, ' + load_zone + \" from loads WHERE STRFTIME('%Y', loads.OperDay_HourEnding_UTC) = '2014'\"\n",
    "load_df = pd.read_sql_query(load_query, conn)"
   ]
  },
  {
   "cell_type": "code",
   "execution_count": 12,
   "id": "f9ce9c7e",
   "metadata": {},
   "outputs": [],
   "source": [
    "# load 2014 weather data\n",
    "weather_query = 'SELECT DateUTC, TemperatureF from ' + weather_station + \" WHERE STRFTIME('%Y', \" + weather_station + \".DateUTC) = '2014'\"\n",
    "weather_df = pd.read_sql_query(weather_query, conn)"
   ]
  },
  {
   "cell_type": "code",
   "execution_count": 13,
   "id": "76a19236",
   "metadata": {},
   "outputs": [],
   "source": [
    "# load 2015 load data\n",
    "load2015_query = 'SELECT OperDay_HourEnding_UTC, ' + load_zone + \" from loads WHERE STRFTIME('%Y', loads.OperDay_HourEnding_UTC) = '2015'\"\n",
    "load2015_df = pd.read_sql_query(load2015_query, conn)"
   ]
  },
  {
   "cell_type": "code",
   "execution_count": 14,
   "id": "82a1243e",
   "metadata": {},
   "outputs": [],
   "source": [
    "# load 2015 weather data\n",
    "weather2015_query = 'SELECT DateUTC, TemperatureF from ' + weather_station + \" WHERE STRFTIME('%Y', \" + weather_station + \".DateUTC) = '2015'\"\n",
    "weather2015_df = pd.read_sql_query(weather2015_query, conn)"
   ]
  },
  {
   "cell_type": "code",
   "execution_count": 15,
   "id": "9bdddc8d",
   "metadata": {},
   "outputs": [],
   "source": [
    "# change datatypes\n",
    "\n",
    "load_df = load_df.astype({'OperDay_HourEnding_UTC': 'datetime64[ns]'})\n",
    "load_df = load_df.sort_values('OperDay_HourEnding_UTC')\n",
    "load2015_df = load2015_df.astype({'OperDay_HourEnding_UTC': 'datetime64[ns]'})\n",
    "load2015_df = load2015_df.sort_values('OperDay_HourEnding_UTC')\n",
    "\n",
    "\n",
    "weather_df = weather_df.astype({'DateUTC': 'datetime64[ns]'})\n",
    "weather_df = weather_df.sort_values('DateUTC')\n",
    "weather2015_df = weather2015_df.astype({'DateUTC': 'datetime64[ns]'})\n",
    "weather2015_df = weather2015_df.sort_values('DateUTC')"
   ]
  },
  {
   "cell_type": "code",
   "execution_count": 16,
   "id": "ba60bf70",
   "metadata": {},
   "outputs": [],
   "source": [
    "# join load and weather dataframes by date\n",
    "\n",
    "merged_df = pd.merge_asof(load_df,weather_df, left_on='OperDay_HourEnding_UTC',right_on='DateUTC', tolerance=pd.Timedelta('15min'))\n",
    "merged_df.dropna(inplace=True)"
   ]
  },
  {
   "cell_type": "code",
   "execution_count": 17,
   "id": "361372dc",
   "metadata": {},
   "outputs": [],
   "source": [
    "# drop outlier datapoints from train data\n",
    "\n",
    "outlier_index = merged_df[merged_df['TemperatureF'] < -100].index\n",
    "merged_df.drop(outlier_index, inplace=True)"
   ]
  },
  {
   "cell_type": "code",
   "execution_count": 18,
   "id": "8202b70d",
   "metadata": {},
   "outputs": [],
   "source": [
    "# group df by date to find daily peak load\n",
    "\n",
    "max_load_df = merged_df.loc[merged_df.groupby(merged_df['OperDay_HourEnding_UTC'].dt.date)[load_zone].idxmax()]"
   ]
  },
  {
   "cell_type": "code",
   "execution_count": 19,
   "id": "8d6c35d5",
   "metadata": {},
   "outputs": [],
   "source": [
    "# merge 2015 dataframes by date\n",
    "\n",
    "test_df = pd.merge_asof(load2015_df,weather2015_df, left_on='OperDay_HourEnding_UTC',right_on='DateUTC', tolerance=pd.Timedelta('15min'))\n",
    "test_df.dropna(inplace=True)\n",
    "\n",
    "# group df by date to find daily peak load\n",
    "\n",
    "test_df = test_df.loc[test_df.groupby(test_df['OperDay_HourEnding_UTC'].dt.date)[load_zone].idxmax()]"
   ]
  },
  {
   "cell_type": "code",
   "execution_count": 20,
   "id": "4c724dd2",
   "metadata": {},
   "outputs": [],
   "source": [
    "# drop outlier datapoints from test data\n",
    "\n",
    "outlier_index = test_df[test_df['TemperatureF'] < -100].index\n",
    "test_df.drop(outlier_index, inplace=True)"
   ]
  },
  {
   "cell_type": "code",
   "execution_count": 22,
   "id": "122e4682",
   "metadata": {},
   "outputs": [
    {
     "data": {
      "text/html": [
       "<div>\n",
       "<style scoped>\n",
       "    .dataframe tbody tr th:only-of-type {\n",
       "        vertical-align: middle;\n",
       "    }\n",
       "\n",
       "    .dataframe tbody tr th {\n",
       "        vertical-align: top;\n",
       "    }\n",
       "\n",
       "    .dataframe thead th {\n",
       "        text-align: right;\n",
       "    }\n",
       "</style>\n",
       "<table border=\"1\" class=\"dataframe\">\n",
       "  <thead>\n",
       "    <tr style=\"text-align: right;\">\n",
       "      <th></th>\n",
       "      <th>OperDay_HourEnding_UTC</th>\n",
       "      <th>COAST</th>\n",
       "      <th>DateUTC</th>\n",
       "      <th>TemperatureF</th>\n",
       "    </tr>\n",
       "  </thead>\n",
       "  <tbody>\n",
       "    <tr>\n",
       "      <th>7</th>\n",
       "      <td>2014-01-01 07:00:00</td>\n",
       "      <td>8913.01</td>\n",
       "      <td>2014-01-01 06:53:00</td>\n",
       "      <td>39.9</td>\n",
       "    </tr>\n",
       "    <tr>\n",
       "      <th>8</th>\n",
       "      <td>2014-01-01 08:00:00</td>\n",
       "      <td>8718.73</td>\n",
       "      <td>2014-01-01 07:53:00</td>\n",
       "      <td>39.0</td>\n",
       "    </tr>\n",
       "    <tr>\n",
       "      <th>9</th>\n",
       "      <td>2014-01-01 09:00:00</td>\n",
       "      <td>8554.86</td>\n",
       "      <td>2014-01-01 08:53:00</td>\n",
       "      <td>37.9</td>\n",
       "    </tr>\n",
       "    <tr>\n",
       "      <th>10</th>\n",
       "      <td>2014-01-01 10:00:00</td>\n",
       "      <td>8444.40</td>\n",
       "      <td>2014-01-01 09:53:00</td>\n",
       "      <td>37.9</td>\n",
       "    </tr>\n",
       "    <tr>\n",
       "      <th>11</th>\n",
       "      <td>2014-01-01 11:00:00</td>\n",
       "      <td>8436.14</td>\n",
       "      <td>2014-01-01 10:53:00</td>\n",
       "      <td>37.0</td>\n",
       "    </tr>\n",
       "    <tr>\n",
       "      <th>...</th>\n",
       "      <td>...</td>\n",
       "      <td>...</td>\n",
       "      <td>...</td>\n",
       "      <td>...</td>\n",
       "    </tr>\n",
       "    <tr>\n",
       "      <th>8753</th>\n",
       "      <td>2014-12-31 19:00:00</td>\n",
       "      <td>11315.21</td>\n",
       "      <td>2014-12-31 19:00:00</td>\n",
       "      <td>37.0</td>\n",
       "    </tr>\n",
       "    <tr>\n",
       "      <th>8754</th>\n",
       "      <td>2014-12-31 20:00:00</td>\n",
       "      <td>11234.68</td>\n",
       "      <td>2014-12-31 19:53:00</td>\n",
       "      <td>37.0</td>\n",
       "    </tr>\n",
       "    <tr>\n",
       "      <th>8755</th>\n",
       "      <td>2014-12-31 21:00:00</td>\n",
       "      <td>11103.39</td>\n",
       "      <td>2014-12-31 20:53:00</td>\n",
       "      <td>36.0</td>\n",
       "    </tr>\n",
       "    <tr>\n",
       "      <th>8756</th>\n",
       "      <td>2014-12-31 22:00:00</td>\n",
       "      <td>11023.82</td>\n",
       "      <td>2014-12-31 21:53:00</td>\n",
       "      <td>36.0</td>\n",
       "    </tr>\n",
       "    <tr>\n",
       "      <th>8757</th>\n",
       "      <td>2014-12-31 23:00:00</td>\n",
       "      <td>11191.83</td>\n",
       "      <td>2014-12-31 22:53:00</td>\n",
       "      <td>35.1</td>\n",
       "    </tr>\n",
       "  </tbody>\n",
       "</table>\n",
       "<p>8708 rows × 4 columns</p>\n",
       "</div>"
      ],
      "text/plain": [
       "     OperDay_HourEnding_UTC     COAST             DateUTC  TemperatureF\n",
       "7       2014-01-01 07:00:00   8913.01 2014-01-01 06:53:00          39.9\n",
       "8       2014-01-01 08:00:00   8718.73 2014-01-01 07:53:00          39.0\n",
       "9       2014-01-01 09:00:00   8554.86 2014-01-01 08:53:00          37.9\n",
       "10      2014-01-01 10:00:00   8444.40 2014-01-01 09:53:00          37.9\n",
       "11      2014-01-01 11:00:00   8436.14 2014-01-01 10:53:00          37.0\n",
       "...                     ...       ...                 ...           ...\n",
       "8753    2014-12-31 19:00:00  11315.21 2014-12-31 19:00:00          37.0\n",
       "8754    2014-12-31 20:00:00  11234.68 2014-12-31 19:53:00          37.0\n",
       "8755    2014-12-31 21:00:00  11103.39 2014-12-31 20:53:00          36.0\n",
       "8756    2014-12-31 22:00:00  11023.82 2014-12-31 21:53:00          36.0\n",
       "8757    2014-12-31 23:00:00  11191.83 2014-12-31 22:53:00          35.1\n",
       "\n",
       "[8708 rows x 4 columns]"
      ]
     },
     "execution_count": 22,
     "metadata": {},
     "output_type": "execute_result"
    }
   ],
   "source": [
    "merged_df"
   ]
  },
  {
   "cell_type": "code",
   "execution_count": 23,
   "id": "803de5c1",
   "metadata": {},
   "outputs": [],
   "source": [
    "from sklearn.preprocessing import MinMaxScaler"
   ]
  },
  {
   "cell_type": "code",
   "execution_count": null,
   "id": "7eed41e2",
   "metadata": {},
   "outputs": [],
   "source": []
  }
 ],
 "metadata": {
  "kernelspec": {
   "display_name": "Python 3",
   "language": "python",
   "name": "python3"
  },
  "language_info": {
   "codemirror_mode": {
    "name": "ipython",
    "version": 3
   },
   "file_extension": ".py",
   "mimetype": "text/x-python",
   "name": "python",
   "nbconvert_exporter": "python",
   "pygments_lexer": "ipython3",
   "version": "3.7.6"
  }
 },
 "nbformat": 4,
 "nbformat_minor": 5
}
