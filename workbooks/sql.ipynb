{
 "cells": [
  {
   "cell_type": "code",
   "execution_count": 1,
   "id": "7c0b9cc4",
   "metadata": {},
   "outputs": [],
   "source": [
    "import os\n",
    "import glob\n",
    "import sqlite3\n",
    "import pytz\n",
    "\n",
    "import pandas as pd"
   ]
  },
  {
   "cell_type": "code",
   "execution_count": 2,
   "id": "de84f6f7",
   "metadata": {},
   "outputs": [],
   "source": [
    "# load power data into dataframe\n",
    "\n",
    "load_files = glob.glob(r'saracen-project/system_load_by_weather_zone/*.csv')\n",
    "loads_df = pd.concat([pd.read_csv(f) for f in load_files], ignore_index=True)"
   ]
  },
  {
   "cell_type": "code",
   "execution_count": 3,
   "id": "666287cf",
   "metadata": {},
   "outputs": [],
   "source": [
    "# load weather data files into dictionary ({weather station: dataframe with weather data})\n",
    "\n",
    "directory = 'saracen-project/weather_data/'\n",
    "weather_data_dict = {}\n",
    "prev_sub_dir = 0\n",
    "\n",
    "for root, subdirectories, files in os.walk(directory):\n",
    "    for subdirectory in subdirectories:\n",
    "        \n",
    "        if subdirectory[:-5] == prev_sub_dir:\n",
    "            \n",
    "            temp_files = glob.glob(os.path.join(root, subdirectory) + '/*.csv')\n",
    "            df_ = pd.concat([pd.read_csv(f) for f in temp_files], ignore_index=True)\n",
    "            df_new = pd.concat([df,df_], ignore_index=True)\n",
    "            weather_data_dict.update({subdirectory[:-5]:df_new})\n",
    "            \n",
    "        else:\n",
    "        \n",
    "            df = pd.DataFrame()\n",
    "            temp_files = glob.glob(os.path.join(root, subdirectory) + '/*.csv')\n",
    "            df = pd.concat([pd.read_csv(f) for f in temp_files], ignore_index=True)\n",
    "        \n",
    "        prev_sub_dir = subdirectory[:-5]"
   ]
  },
  {
   "cell_type": "code",
   "execution_count": 4,
   "id": "de50e5b9",
   "metadata": {},
   "outputs": [],
   "source": [
    "#remove white space from column names\n",
    "\n",
    "for key in weather_data_dict:\n",
    "    column_headings = list(weather_data_dict[key].columns.values)\n",
    "    column_headings = [x.replace(' ','') for x in column_headings]\n",
    "    weather_data_dict[key].set_axis(column_headings, axis=1, inplace=True)"
   ]
  },
  {
   "cell_type": "code",
   "execution_count": 5,
   "id": "4c344142",
   "metadata": {},
   "outputs": [],
   "source": [
    "# adjust data types for loads data\n",
    "\n",
    "loads_df['HourEnding'] = [x + ':00' for x in loads_df['HourEnding']]\n",
    "loads_df['OperDay_HourEnding_UTC'] = pd.to_datetime(loads_df['OperDay']) + pd.to_timedelta(loads_df['HourEnding'])\n",
    "\n",
    "loads_df.drop(['OperDay', 'HourEnding'], axis=1, inplace=True)\n",
    "\n",
    "column_to_move = loads_df.pop('OperDay_HourEnding_UTC')\n",
    "loads_df.insert(0, 'OperDay_HourEnding_UTC', column_to_move)"
   ]
  },
  {
   "cell_type": "code",
   "execution_count": 6,
   "id": "32679db0",
   "metadata": {},
   "outputs": [],
   "source": [
    "# convert loads data time to UTC\n",
    "\n",
    "old_timezone = pytz.timezone('US/Central')\n",
    "new_timezone = pytz.timezone('UTC')\n",
    "\n",
    "for i in range(0,len(loads_df)):\n",
    "    new_timezone_timestamp = old_timezone.localize(pd.to_datetime(loads_df['OperDay_HourEnding_UTC'][i])).astimezone(new_timezone)\n",
    "    UTC_time = new_timezone_timestamp.to_pydatetime()\n",
    "    loads_df.loc[i,'OperDay_HourEnding_UTC'] = UTC_time"
   ]
  },
  {
   "cell_type": "code",
   "execution_count": 7,
   "id": "91731d0f",
   "metadata": {},
   "outputs": [],
   "source": [
    "# adjust data types for weather data\n",
    "\n",
    "for key in weather_data_dict:\n",
    "    weather_data_dict[key]['DateUTC'] = pd.to_datetime(weather_data_dict[key]['DateUTC'])\n",
    "\n",
    "    weather_data_dict[key].drop(['TimeCST', 'TimeCDT'], axis=1, inplace=True)\n",
    "    \n",
    "    weather_data_dict[key]['WindSpeedMPH'].replace('Calm', 0, inplace=True)\n",
    "    weather_data_dict[key]['WindSpeedMPH'] = pd.to_numeric(weather_data_dict[key]['WindSpeedMPH'])\n",
    "    \n",
    "    column_to_move = weather_data_dict[key].pop('DateUTC')\n",
    "    weather_data_dict[key].insert(0, 'DateUTC', column_to_move)"
   ]
  },
  {
   "cell_type": "code",
   "execution_count": 8,
   "id": "78eb0532",
   "metadata": {},
   "outputs": [],
   "source": [
    "# normalize weather database\n",
    "\n",
    "wind_data_dict = {}\n",
    "\n",
    "for x in weather_data_dict:\n",
    "    wind_data_dict.update({x:weather_data_dict[x][['DateUTC', 'WindDirection', 'WindDirDegrees']]})\n",
    "    \n",
    "    weather_data_dict[x].drop('WindDirection', axis=1, inplace=True)"
   ]
  },
  {
   "cell_type": "code",
   "execution_count": 9,
   "id": "a6080885",
   "metadata": {},
   "outputs": [],
   "source": [
    "# extract dataframe column names and column data types to form SQL execute statment\n",
    "\n",
    "def get_table_string(df, database_name):\n",
    "    column_headings = list(df.columns.values)\n",
    "    \n",
    "    dtypes_list = []\n",
    "    for x in df.dtypes:\n",
    "        if (x == 'datetime64[ns]'):\n",
    "            dtypes_list.append('date')\n",
    "        elif (x == 'float64'):\n",
    "            dtypes_list.append('float')\n",
    "        elif (x == 'int64'):\n",
    "            dtypes_list.append('int')\n",
    "        else:\n",
    "            dtypes_list.append('varchar')\n",
    "            \n",
    "    create_table_string = 'CREATE TABLE IF NOT EXISTS ' + database_name + ' ('\n",
    "\n",
    "    for i in range(len(dtypes_list)):\n",
    "        if dtypes_list[i] == 'date':\n",
    "            \n",
    "            create_table_string = create_table_string + column_headings[i] + ' ' + dtypes_list[i] + 'PRIMARY KEY,'\n",
    "        \n",
    "        else:\n",
    "        \n",
    "            create_table_string = create_table_string + column_headings[i] + ' ' + dtypes_list[i] + ','\n",
    "    \n",
    "    create_table_string = create_table_string[:-1] + ');'\n",
    "    \n",
    "    return create_table_string"
   ]
  },
  {
   "cell_type": "code",
   "execution_count": 10,
   "id": "ead1ab66",
   "metadata": {},
   "outputs": [],
   "source": [
    "# establish connection to database\n",
    "\n",
    "conn = sqlite3.connect('test_project.db')\n",
    "c = conn.cursor()"
   ]
  },
  {
   "cell_type": "code",
   "execution_count": 11,
   "id": "61f9276e",
   "metadata": {},
   "outputs": [],
   "source": [
    "# populate loads data to table\n",
    "\n",
    "loads_string = get_table_string(loads_df, database_name = 'loads')\n",
    "c.execute(loads_string)\n",
    "loads_df.to_sql('loads', conn, if_exists='append', index = False)"
   ]
  },
  {
   "cell_type": "code",
   "execution_count": 12,
   "id": "3d92498e",
   "metadata": {},
   "outputs": [],
   "source": [
    "# populate weather data to table\n",
    "\n",
    "for x in weather_data_dict:\n",
    "    temps_string = get_table_string(weather_data_dict[x], database_name = x)\n",
    "    c.execute(temps_string)\n",
    "    weather_data_dict[x].to_sql(x, conn, if_exists='append', index = False)"
   ]
  },
  {
   "cell_type": "code",
   "execution_count": 13,
   "id": "ebe2e898",
   "metadata": {},
   "outputs": [],
   "source": [
    "# populate wind data to table\n",
    "\n",
    "for x in wind_data_dict:\n",
    "    c.execute('CREATE TABLE IF NOT EXISTS ' + x + '_wind' + ' (DateUTC date REFERENCES ' + x + '(DateUTC), WindDirection varchar, WindDirDegrees int)')\n",
    "    wind_data_dict[x].to_sql(x + '_wind', conn, if_exists='append', index = False)"
   ]
  },
  {
   "cell_type": "code",
   "execution_count": null,
   "id": "184d4a77",
   "metadata": {},
   "outputs": [],
   "source": []
  },
  {
   "cell_type": "code",
   "execution_count": null,
   "id": "3748cbef",
   "metadata": {},
   "outputs": [],
   "source": []
  },
  {
   "cell_type": "code",
   "execution_count": 14,
   "id": "ceac5d62",
   "metadata": {},
   "outputs": [
    {
     "name": "stdout",
     "output_type": "stream",
     "text": [
      "('2014-06-16 05:53:00', 'SSE', 160)\n"
     ]
    }
   ],
   "source": [
    "c.execute('SELECT * FROM KDAL_wind')\n",
    "print(c.fetchone())"
   ]
  },
  {
   "cell_type": "code",
   "execution_count": 15,
   "id": "f79d6a76",
   "metadata": {},
   "outputs": [
    {
     "name": "stdout",
     "output_type": "stream",
     "text": [
      "('2014-06-16 05:53:00', 82.0, 70.0, 67.0, 29.92, 10.0, 12.7, '-', None, None, 'Mostly Cloudy', 160)\n"
     ]
    }
   ],
   "source": [
    "c.execute('SELECT * FROM KDAL')\n",
    "print(c.fetchone())"
   ]
  },
  {
   "cell_type": "code",
   "execution_count": null,
   "id": "abc2532a",
   "metadata": {},
   "outputs": [],
   "source": []
  }
 ],
 "metadata": {
  "kernelspec": {
   "display_name": "Python 3",
   "language": "python",
   "name": "python3"
  },
  "language_info": {
   "codemirror_mode": {
    "name": "ipython",
    "version": 3
   },
   "file_extension": ".py",
   "mimetype": "text/x-python",
   "name": "python",
   "nbconvert_exporter": "python",
   "pygments_lexer": "ipython3",
   "version": "3.7.6"
  }
 },
 "nbformat": 4,
 "nbformat_minor": 5
}
